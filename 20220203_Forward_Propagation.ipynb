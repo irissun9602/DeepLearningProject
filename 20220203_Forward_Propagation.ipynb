{
  "nbformat": 4,
  "nbformat_minor": 0,
  "metadata": {
    "colab": {
      "provenance": [],
      "authorship_tag": "ABX9TyOoUqsk5YAqUwhSOY36nUJB",
      "include_colab_link": true
    },
    "kernelspec": {
      "name": "python3",
      "display_name": "Python 3"
    },
    "language_info": {
      "name": "python"
    }
  },
  "cells": [
    {
      "cell_type": "markdown",
      "metadata": {
        "id": "view-in-github",
        "colab_type": "text"
      },
      "source": [
        "<a href=\"https://colab.research.google.com/github/irissun9602/DeepLearningProject/blob/master/20220203_Forward_Propagation.ipynb\" target=\"_parent\"><img src=\"https://colab.research.google.com/assets/colab-badge.svg\" alt=\"Open In Colab\"/></a>"
      ]
    },
    {
      "cell_type": "markdown",
      "source": [
        "출처 https://leedakyeong.tistory.com/entry/%EB%B0%91%EB%B0%94%EB%8B%A5%EB%B6%80%ED%84%B0-%EC%8B%9C%EC%9E%91%ED%95%98%EB%8A%94-%EB%94%A5%EB%9F%AC%EB%8B%9D-%ED%8C%8C%EC%9D%B4%EC%8D%AC%EC%9C%BC%EB%A1%9C-%EC%8B%A0%EA%B2%BD%EB%A7%9D-%EC%88%9C%EC%A0%84%ED%8C%8C-%EA%B5%AC%ED%98%84%ED%95%98%EA%B8%B0-Neural-Network-forward-propagation-in-python\n",
        "1. 0층 -> 1층"
      ],
      "metadata": {
        "id": "NkrqKWthXzBW"
      }
    },
    {
      "cell_type": "code",
      "execution_count": null,
      "metadata": {
        "id": "26DehxNTUSLM"
      },
      "outputs": [],
      "source": [
        "#순전파 파이썬 코드 구현하기\n",
        "import numpy as np\n",
        "\n",
        "X = np.array([1.0, 0.5])\n",
        "W1 = np.array([[0.1, 0.3, 0.5], [0.2, 0.4, 0.6]])\n",
        "B1 = np.array ([0.1, 0.2, 0.3])\n",
        "\n",
        "#np.dot는 행렬의 곱 연산\n",
        "A1 = np.dot(X, W1) + B1\n"
      ]
    },
    {
      "cell_type": "code",
      "source": [
        "def sigmoid(x):\n",
        "  #np.exp(x)는 밑을 e로 하는 e^x 지수 함수\n",
        "  return 1/(1+np.exp(-x))\n",
        "\n",
        "Z1 = sigmoid(A1)"
      ],
      "metadata": {
        "id": "8yyyEv1VWJJu"
      },
      "execution_count": null,
      "outputs": []
    },
    {
      "cell_type": "code",
      "source": [
        "print(A1)\n",
        "print(Z1)"
      ],
      "metadata": {
        "colab": {
          "base_uri": "https://localhost:8080/"
        },
        "id": "Rc3mLyPGWgAI",
        "outputId": "c5a23db6-11f5-4088-85f5-a93a39df51e9"
      },
      "execution_count": null,
      "outputs": [
        {
          "output_type": "stream",
          "name": "stdout",
          "text": [
            "[0.3 0.7 1.1]\n",
            "[0.57444252 0.66818777 0.75026011]\n"
          ]
        }
      ]
    },
    {
      "cell_type": "markdown",
      "source": [
        "2. 1층 -> 2층"
      ],
      "metadata": {
        "id": "L6UoHksLX38s"
      }
    },
    {
      "cell_type": "code",
      "source": [
        "W2 = np.array([[0.1, 0.4], [0.2, 0.5], [0.3, 0.6]])\n",
        "B2 = np.array([0.1, 0.2])\n",
        "\n",
        "A2 = np.dot(Z1, W2)+ B2\n",
        "Z2 = sigmoid(A2)"
      ],
      "metadata": {
        "id": "A3gQ5g0qX7w7"
      },
      "execution_count": null,
      "outputs": []
    },
    {
      "cell_type": "code",
      "source": [
        "print(A2)\n",
        "print(Z2)"
      ],
      "metadata": {
        "colab": {
          "base_uri": "https://localhost:8080/"
        },
        "id": "qU3bnm0PYkAJ",
        "outputId": "5305e27e-ab82-4ec9-c7a2-506c8d36c1c4"
      },
      "execution_count": null,
      "outputs": [
        {
          "output_type": "stream",
          "name": "stdout",
          "text": [
            "[0.51615984 1.21402696]\n",
            "[0.62624937 0.7710107 ]\n"
          ]
        }
      ]
    },
    {
      "cell_type": "code",
      "source": [
        " def identity_function(x):\n",
        "  return X\n",
        "\n",
        "W3 = np.array([[0.1, 0.3], [0.2, 0.4]])\n",
        "B3 = np.array([0.1, 0.2])\n",
        "\n",
        "A3 = np.dot(Z2, W3) + B3\n",
        "Y = identity_function(A3)"
      ],
      "metadata": {
        "id": "LUZPC5WzY3im"
      },
      "execution_count": null,
      "outputs": []
    },
    {
      "cell_type": "code",
      "source": [],
      "metadata": {
        "id": "pmcS9ge8-Ca1"
      },
      "execution_count": null,
      "outputs": []
    },
    {
      "cell_type": "code",
      "source": [
        "print(Y)"
      ],
      "metadata": {
        "colab": {
          "base_uri": "https://localhost:8080/"
        },
        "id": "DFD-RygHZEJ1",
        "outputId": "ffde52f7-1681-4e0e-d717-437c694bed13"
      },
      "execution_count": null,
      "outputs": [
        {
          "output_type": "stream",
          "name": "stdout",
          "text": [
            "[1.  0.5]\n"
          ]
        }
      ]
    },
    {
      "cell_type": "markdown",
      "source": [
        "3. 3층 신경망 구현"
      ],
      "metadata": {
        "id": "QJYklb3QAYZ8"
      }
    },
    {
      "cell_type": "code",
      "source": [
        " def sigmoid(x):\n",
        "   return 1/(1+np.exp(-x))\n",
        " def identity_function(x):\n",
        "   return x\n",
        "\n",
        " def init_network():\n",
        "   network = {}\n",
        "   network['W1'] = np.array([[0.1, 0.3, 0.5], [0.2, 0.4, 0.6]])\n",
        "   network['b1'] = np.array([0.1, 0.2, 0.3])\n",
        "   network['W2'] = np.array([[0.1, 0.4], [0.2, 0.5], [0.3, 0.6]])\n",
        "   network['b2'] = np.array([0.1, 0.2])\n",
        "   network['W3'] = np.array([[0.1, 0.3], [0.2, 0.4]])\n",
        "   network['b3'] = np.array([0.1, 0.2])\n",
        "\n",
        "   return network\n",
        "\n",
        " def forword(network, x):\n",
        "   W1, W2, W3 = network['W1'], network['W2'], network['W3']\n",
        "   b1, b2, b3 = network['b1'], network['b2'], network['b3']\n",
        "\n",
        "   a1 = np.dot(x, W1) + b1\n",
        "   z1 = sigmoid(a1)\n",
        "   a2 = np.dot(z1, W2) + b2\n",
        "   z2 = sigmoid(a2)\n",
        "   a3 = np.dot(z2, W3) + b3\n",
        "   y = identity_function(a3)\n",
        "\n",
        "   return y\n",
        "\n",
        "network = init_network()\n",
        "x = np.array([1.0, 0.5])\n",
        "y = forword(network, x)\n"
      ],
      "metadata": {
        "id": "NUYNxG3a-DdQ"
      },
      "execution_count": null,
      "outputs": []
    },
    {
      "cell_type": "code",
      "source": [
        "print(y)"
      ],
      "metadata": {
        "colab": {
          "base_uri": "https://localhost:8080/"
        },
        "id": "0TuxCLdL_42D",
        "outputId": "e1c99fe4-24fc-4c2e-cdbc-58383107682b"
      },
      "execution_count": null,
      "outputs": [
        {
          "output_type": "stream",
          "name": "stdout",
          "text": [
            "[0.31682708 0.69627909]\n"
          ]
        }
      ]
    }
  ]
}