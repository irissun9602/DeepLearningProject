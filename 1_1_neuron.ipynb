{
  "nbformat": 4,
  "nbformat_minor": 0,
  "metadata": {
    "colab": {
      "provenance": [],
      "gpuType": "T4",
      "authorship_tag": "ABX9TyOQWT4Imh6+zALgMfmXD55j",
      "include_colab_link": true
    },
    "kernelspec": {
      "name": "python3",
      "display_name": "Python 3"
    },
    "language_info": {
      "name": "python"
    },
    "accelerator": "GPU",
    "gpuClass": "standard"
  },
  "cells": [
    {
      "cell_type": "markdown",
      "metadata": {
        "id": "view-in-github",
        "colab_type": "text"
      },
      "source": [
        "<a href=\"https://colab.research.google.com/github/irissun9602/DeepLearningProject/blob/master/1_1_neuron.ipynb\" target=\"_parent\"><img src=\"https://colab.research.google.com/assets/colab-badge.svg\" alt=\"Open In Colab\"/></a>"
      ]
    },
    {
      "cell_type": "markdown",
      "source": [
        "Chap 1-1. 신경망 구성하기"
      ],
      "metadata": {
        "id": "qfYziVBXDtR5"
      }
    },
    {
      "cell_type": "code",
      "source": [
        "import numpy as np\n",
        "\n",
        "class Neuron(object):\n",
        "  def __init__(self, num_inputs, activation_fn):\n",
        "    super().__init__()\n",
        "    self.W = np.random.rand(num_inputs)\n",
        "    self.b = np.random.rand(1)\n",
        "    self.activation_fn = activation_fn\n",
        "\n",
        "  def forward(self, x):\n",
        "    z = np.dot(x, self.W) + self.b\n",
        "    return self.activation_fn(z)\n"
      ],
      "metadata": {
        "id": "YRcNESnCEBhs"
      },
      "execution_count": null,
      "outputs": []
    },
    {
      "cell_type": "code",
      "source": [
        "# 랜덤 시드 고정\n",
        "np.random.seed(42)\n",
        "\n",
        "x = np.random.rand(3).reshape(1,3)\n",
        "\n",
        "# 활성화 함수 : 계단 함수\n",
        "step_fn = lambda y: 0 if y <= 0 else 1\n",
        "perceptron = Neuron(num_inputs=x.size, activation_fn=step_fn)\n"
      ],
      "metadata": {
        "id": "jHZgTo5JEPtU"
      },
      "execution_count": null,
      "outputs": []
    },
    {
      "cell_type": "code",
      "source": [
        "perceptron.W"
      ],
      "metadata": {
        "colab": {
          "base_uri": "https://localhost:8080/"
        },
        "id": "i8VRGLjTGuGi",
        "outputId": "c45ac393-3fbb-4f5a-b210-dc3aefcc3600"
      },
      "execution_count": null,
      "outputs": [
        {
          "output_type": "execute_result",
          "data": {
            "text/plain": [
              "array([0.59865848, 0.15601864, 0.15599452])"
            ]
          },
          "metadata": {},
          "execution_count": 10
        }
      ]
    },
    {
      "cell_type": "code",
      "source": [
        "perceptron.b"
      ],
      "metadata": {
        "colab": {
          "base_uri": "https://localhost:8080/"
        },
        "id": "C4P9ivDEHfWe",
        "outputId": "29f0b847-2df3-418e-dd8d-7068e28f76f0"
      },
      "execution_count": null,
      "outputs": [
        {
          "output_type": "execute_result",
          "data": {
            "text/plain": [
              "array([0.05808361])"
            ]
          },
          "metadata": {},
          "execution_count": 12
        }
      ]
    },
    {
      "cell_type": "code",
      "source": [
        "out = perceptron.forward(x)\n",
        "print(out)"
      ],
      "metadata": {
        "colab": {
          "base_uri": "https://localhost:8080/"
        },
        "id": "EKjqOa0-Hhmz",
        "outputId": "1a9b4689-2321-4278-d8e4-52fe60e0fc90"
      },
      "execution_count": null,
      "outputs": [
        {
          "output_type": "stream",
          "name": "stdout",
          "text": [
            "1\n"
          ]
        }
      ]
    },
    {
      "cell_type": "markdown",
      "source": [],
      "metadata": {
        "id": "Jd9DBSkuIBXu"
      }
    }
  ]
}