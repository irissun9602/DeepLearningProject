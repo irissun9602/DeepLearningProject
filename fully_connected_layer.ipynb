{
  "nbformat": 4,
  "nbformat_minor": 0,
  "metadata": {
    "colab": {
      "provenance": [],
      "authorship_tag": "ABX9TyMINQFFvbXK/uXMN8bgU8YT",
      "include_colab_link": true
    },
    "kernelspec": {
      "name": "python3",
      "display_name": "Python 3"
    },
    "language_info": {
      "name": "python"
    }
  },
  "cells": [
    {
      "cell_type": "markdown",
      "metadata": {
        "id": "view-in-github",
        "colab_type": "text"
      },
      "source": [
        "<a href=\"https://colab.research.google.com/github/irissun9602/DeepLearningProject/blob/master/fully_connected_layer.ipynb\" target=\"_parent\"><img src=\"https://colab.research.google.com/assets/colab-badge.svg\" alt=\"Open In Colab\"/></a>"
      ]
    },
    {
      "cell_type": "markdown",
      "source": [
        "Chap 1-2. 완전 연결 계층 구현"
      ],
      "metadata": {
        "id": "Bg4NHr9YI84h"
      }
    },
    {
      "cell_type": "code",
      "source": [
        "import numpy as np\n",
        "\n",
        "class FullyConnectedLayer(object):\n",
        "\n",
        "  def __init__(self, num_inputs, layer_size, activation_fn):\n",
        "    super().__init__()\n",
        "\n",
        "    self.W = np.random.standard_normal((num_inputs, layer_size))\n",
        "    self.b = np.random.standard_normal(layer_size)\n",
        "    self.size = layer_size\n",
        "    self.activation_fn = activation_fn\n",
        "\n",
        "\n",
        "  def forward(self, x):\n",
        "    z = np.dot(x, self.W) + self.b\n",
        "\n",
        "    return self.activation_fn(z)\n",
        "\n"
      ],
      "metadata": {
        "id": "swYvVRrVJDAp"
      },
      "execution_count": null,
      "outputs": []
    },
    {
      "cell_type": "code",
      "source": [
        "np.random.seed(42)\n",
        "\n",
        "# -1~1 사이 실수 2개 랜덤으로 고르기\n",
        "x1 = np.random.uniform(-1, 1, 2).reshape(1, 2)\n",
        "x2 = np.random.uniform(-1, 1, 2).reshape(1, 2)\n",
        "\n",
        "# relu 활성화 함수 정의\n",
        "relu_fn = lambda y: np.maximum(y,0)\n",
        "\n",
        "layer = FullyConnectedLayer(2, 3, relu_fn)\n",
        "\n",
        "out1 = layer.forward(x1)\n",
        "print(out1)\n"
      ],
      "metadata": {
        "colab": {
          "base_uri": "https://localhost:8080/"
        },
        "id": "iIGmZVobJ9eI",
        "outputId": "2b8b28e0-f97a-40f4-f932-b64d4a0c0ca9"
      },
      "execution_count": null,
      "outputs": [
        {
          "output_type": "stream",
          "name": "stdout",
          "text": [
            "[[0.28712364 0.         0.33478571]]\n"
          ]
        }
      ]
    },
    {
      "cell_type": "code",
      "source": [
        "out2 = layer.forward(x2)\n",
        "print(out2)"
      ],
      "metadata": {
        "colab": {
          "base_uri": "https://localhost:8080/"
        },
        "id": "2Lb7DF9IN-Rf",
        "outputId": "140ae520-93bc-4ca7-f29a-597306496794"
      },
      "execution_count": null,
      "outputs": [
        {
          "output_type": "stream",
          "name": "stdout",
          "text": [
            "[[0.         0.         1.08175419]]\n"
          ]
        }
      ]
    },
    {
      "cell_type": "code",
      "source": [
        "print(layer.W)"
      ],
      "metadata": {
        "colab": {
          "base_uri": "https://localhost:8080/"
        },
        "id": "uTekzQIYOVY3",
        "outputId": "9c717b90-b3ef-44ec-dff1-ca594876e10a"
      },
      "execution_count": null,
      "outputs": [
        {
          "output_type": "stream",
          "name": "stdout",
          "text": [
            "[[-0.23415337 -0.23413696  1.57921282]\n",
            " [ 0.76743473 -0.46947439  0.54256004]]\n"
          ]
        }
      ]
    }
  ]
}